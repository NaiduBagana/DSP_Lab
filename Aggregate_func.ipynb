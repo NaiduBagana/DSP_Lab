{
 "cells": [
  {
   "cell_type": "markdown",
   "id": "0419c556",
   "metadata": {},
   "source": [
    "## Aggegate Functions"
   ]
  },
  {
   "cell_type": "code",
   "execution_count": 2,
   "id": "0595bbc9",
   "metadata": {},
   "outputs": [
    {
     "name": "stdout",
     "output_type": "stream",
     "text": [
      "          Value\n",
      "Category       \n",
      "A            90\n",
      "B           120\n",
      "          Value\n",
      "Category       \n",
      "A          30.0\n",
      "B          40.0\n",
      "          Value\n",
      "Category       \n",
      "A            50\n",
      "B            60\n",
      "          Value\n",
      "Category       \n",
      "A            10\n",
      "B            20\n",
      "         Value                    \n",
      "           sum  mean max min count\n",
      "Category                          \n",
      "A           90  30.0  50  10     3\n",
      "B          120  40.0  60  20     3\n"
     ]
    }
   ],
   "source": [
    "import pandas as pd\n",
    "data = {\n",
    "    'Category': ['A', 'B', 'A', 'B', 'A', 'B'],\n",
    "    'Value': [10, 20, 30, 40, 50, 60]\n",
    "}\n",
    "df = pd.DataFrame(data)\n",
    "grouped = df.groupby('Category').agg({\n",
    "    'Value': ['sum', 'mean', 'max', 'min', 'count']\n",
    "})\n",
    "sum=df.groupby('Category').agg('sum')\n",
    "mean=df.groupby('Category').agg('mean')\n",
    "max=df.groupby('Category').agg('max')\n",
    "min=df.groupby('Category').agg('min')\n",
    "print(sum)\n",
    "print(mean)\n",
    "print(max)\n",
    "print(min)\n",
    "print(grouped)"
   ]
  },
  {
   "cell_type": "code",
   "execution_count": null,
   "id": "c11b0f7a",
   "metadata": {},
   "outputs": [],
   "source": []
  }
 ],
 "metadata": {
  "kernelspec": {
   "display_name": "Python 3 (ipykernel)",
   "language": "python",
   "name": "python3"
  },
  "language_info": {
   "codemirror_mode": {
    "name": "ipython",
    "version": 3
   },
   "file_extension": ".py",
   "mimetype": "text/x-python",
   "name": "python",
   "nbconvert_exporter": "python",
   "pygments_lexer": "ipython3",
   "version": "3.11.5"
  }
 },
 "nbformat": 4,
 "nbformat_minor": 5
}
