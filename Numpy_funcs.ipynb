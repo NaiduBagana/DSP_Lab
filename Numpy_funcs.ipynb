{
 "cells": [
  {
   "cell_type": "markdown",
   "id": "ed7dca0b",
   "metadata": {},
   "source": [
    "## Numpy Functions"
   ]
  },
  {
   "cell_type": "code",
   "execution_count": 1,
   "id": "a428140c",
   "metadata": {},
   "outputs": [
    {
     "name": "stdout",
     "output_type": "stream",
     "text": [
      "[0 1 2 3 4 5 6 7 8 9]\n",
      "[[0.05240294 0.50452077 0.56448273]\n",
      " [0.26757126 0.18575655 0.61855104]]\n",
      "[[1 2]\n",
      " [3 4]\n",
      " [5 6]]\n",
      "Mean of the entire array: 3.5\n",
      "Sum of the entire array: 21\n",
      "Maximum value of the entire array: 6\n",
      "Minimum value of the entire array: 1\n",
      "Standard deviation of the entire array: 1.707825127659933\n"
     ]
    }
   ],
   "source": [
    "import numpy as np\n",
    "arr = np.arange(10)\n",
    "print(arr)\n",
    "arr = np.random.rand(2, 3)\n",
    "print(arr)\n",
    "arr = np.arange(12)\n",
    "arr1 = np.array([[1, 2], [3, 4]])\n",
    "arr2 = np.array([[5, 6]])\n",
    "arr_concatenated = np.concatenate((arr1, arr2), axis=0)\n",
    "print(arr_concatenated)\n",
    "arr = np.array([[1, 2, 3],\n",
    "                [4, 5, 6]])\n",
    "mean_all = np.mean(arr)\n",
    "print(\"Mean of the entire array:\", mean_all)\n",
    "sum_all = np.sum(arr)\n",
    "print(\"Sum of the entire array:\", sum_all)\n",
    "max_val = np.max(arr)\n",
    "print(\"Maximum value of the entire array:\", max_val)\n",
    "min_val = np.min(arr)\n",
    "print(\"Minimum value of the entire array:\", min_val)\n",
    "std_all = np.std(arr)\n",
    "print(\"Standard deviation of the entire array:\", std_all)"
   ]
  },
  {
   "cell_type": "code",
   "execution_count": null,
   "id": "8117149e",
   "metadata": {},
   "outputs": [],
   "source": []
  }
 ],
 "metadata": {
  "kernelspec": {
   "display_name": "Python 3 (ipykernel)",
   "language": "python",
   "name": "python3"
  },
  "language_info": {
   "codemirror_mode": {
    "name": "ipython",
    "version": 3
   },
   "file_extension": ".py",
   "mimetype": "text/x-python",
   "name": "python",
   "nbconvert_exporter": "python",
   "pygments_lexer": "ipython3",
   "version": "3.11.5"
  }
 },
 "nbformat": 4,
 "nbformat_minor": 5
}
