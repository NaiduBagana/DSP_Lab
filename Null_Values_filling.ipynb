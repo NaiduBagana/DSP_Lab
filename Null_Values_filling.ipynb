{
 "cells": [
  {
   "cell_type": "code",
   "execution_count": 1,
   "id": "f0302f19",
   "metadata": {},
   "outputs": [
    {
     "name": "stdout",
     "output_type": "stream",
     "text": [
      "Null values in the DataFrame:\n",
      "       A      B      C\n",
      "0  False   True  False\n",
      "1  False  False  False\n",
      "2   True  False  False\n",
      "3  False   True  False\n",
      "4  False  False  False\n",
      "\n",
      "DataFrame after filling null values with 0:\n",
      "     A    B  C\n",
      "0  1.0  0.0  1\n",
      "1  2.0  2.0  2\n",
      "2  0.0  3.0  3\n",
      "3  4.0  0.0  4\n",
      "4  5.0  5.0  5\n",
      "\n",
      "DataFrame after filling null values with column mean:\n",
      "     A         B  C\n",
      "0  1.0  3.333333  1\n",
      "1  2.0  2.000000  2\n",
      "2  3.0  3.000000  3\n",
      "3  4.0  3.333333  4\n",
      "4  5.0  5.000000  5\n",
      "\n",
      "DataFrame after filling null values with column median:\n",
      "     A    B  C\n",
      "0  1.0  3.0  1\n",
      "1  2.0  2.0  2\n",
      "2  3.0  3.0  3\n",
      "3  4.0  3.0  4\n",
      "4  5.0  5.0  5\n",
      "\n",
      "DataFrame after forward filling null values:\n",
      "     A    B  C\n",
      "0  1.0  NaN  1\n",
      "1  2.0  2.0  2\n",
      "2  2.0  3.0  3\n",
      "3  4.0  3.0  4\n",
      "4  5.0  5.0  5\n",
      "\n",
      "DataFrame after backward filling null values:\n",
      "     A    B  C\n",
      "0  1.0  2.0  1\n",
      "1  2.0  2.0  2\n",
      "2  4.0  3.0  3\n",
      "3  4.0  5.0  4\n",
      "4  5.0  5.0  5\n"
     ]
    }
   ],
   "source": [
    "import pandas as pd\n",
    "data = {'A': [1, 2, None, 4, 5],\n",
    "        'B': [None, 2, 3, None, 5],\n",
    "        'C': [1, 2, 3, 4, 5]}\n",
    "df = pd.DataFrame(data)\n",
    "null_values = df.isnull()\n",
    "\n",
    "print(\"Null values in the DataFrame:\")\n",
    "print(null_values)\n",
    "\n",
    "filled_df = df.fillna(0)\n",
    "print(\"\\nDataFrame after filling null values with 0:\")\n",
    "\n",
    "print(filled_df)\n",
    "mean_filled_df = df.fillna(df.mean())\n",
    "\n",
    "print(\"\\nDataFrame after filling null values with column mean:\")\n",
    "print(mean_filled_df)\n",
    "\n",
    "median_filled_df = df.fillna(df.median())\n",
    "print(\"\\nDataFrame after filling null values with column median:\")\n",
    "\n",
    "print(median_filled_df)\n",
    "ffilled_df = df.fillna(method='ffill')\n",
    "print(\"\\nDataFrame after forward filling null values:\")\n",
    "print(ffilled_df)\n",
    "\n",
    "bfilled_df = df.fillna(method='bfill')\n",
    "print(\"\\nDataFrame after backward filling null values:\")\n",
    "print(bfilled_df)\n"
   ]
  },
  {
   "cell_type": "code",
   "execution_count": null,
   "id": "b5a74cb8",
   "metadata": {},
   "outputs": [],
   "source": []
  }
 ],
 "metadata": {
  "kernelspec": {
   "display_name": "Python 3 (ipykernel)",
   "language": "python",
   "name": "python3"
  },
  "language_info": {
   "codemirror_mode": {
    "name": "ipython",
    "version": 3
   },
   "file_extension": ".py",
   "mimetype": "text/x-python",
   "name": "python",
   "nbconvert_exporter": "python",
   "pygments_lexer": "ipython3",
   "version": "3.11.4"
  }
 },
 "nbformat": 4,
 "nbformat_minor": 5
}
